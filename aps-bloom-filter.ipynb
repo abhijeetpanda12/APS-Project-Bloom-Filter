{
 "cells": [
  {
   "cell_type": "markdown",
   "metadata": {},
   "source": [
    "# Bloom Filters (APS project)"
   ]
  },
  {
   "cell_type": "markdown",
   "metadata": {},
   "source": [
    "### This project contains two applications of Bloom Filters namely \n",
    "* searching in multiple databases / caches\n",
    "* username / phone number validation"
   ]
  },
  {
   "cell_type": "markdown",
   "metadata": {},
   "source": [
    "## Section 1 : basic Bloom Filter"
   ]
  },
  {
   "cell_type": "code",
   "execution_count": 1,
   "metadata": {},
   "outputs": [],
   "source": [
    "import math \n",
    "import mmh3 \n",
    "from bitarray import bitarray"
   ]
  },
  {
   "cell_type": "code",
   "execution_count": 2,
   "metadata": {},
   "outputs": [],
   "source": [
    "class BloomFilter(object):\n",
    "    def __init__(self, items_count,fp_prob): \n",
    "        self.fp_prob = fp_prob \n",
    "        self.size = self.get_size(items_count,fp_prob) \n",
    "        self.hash_count = self.get_hash_count(self.size,items_count) \n",
    "        self.bit_array = bitarray(self.size) \n",
    "        self.bit_array.setall(0) \n",
    "\n",
    "    def add(self, item):\n",
    "        digests = [] \n",
    "        for i in range(self.hash_count): \n",
    "            digest = mmh3.hash(item,i) % self.size \n",
    "            digests.append(digest)\n",
    "            self.bit_array[digest] = True\n",
    "\n",
    "    def check(self, item): \n",
    "        for i in range(self.hash_count): \n",
    "            digest = mmh3.hash(item,i) % self.size \n",
    "            if self.bit_array[digest] == False:\n",
    "                return False\n",
    "        return True\n",
    "\n",
    "    @classmethod\n",
    "    def get_size(self,n,p):\n",
    "        m = -(n * math.log(p))/(math.log(2)**2) \n",
    "        return int(m) \n",
    "\n",
    "    @classmethod\n",
    "    def get_hash_count(self, m, n):\n",
    "        k = (m/n) * math.log(2) \n",
    "        return int(k)"
   ]
  },
  {
   "cell_type": "code",
   "execution_count": 3,
   "metadata": {},
   "outputs": [],
   "source": [
    "from random import shuffle\n"
   ]
  },
  {
   "cell_type": "code",
   "execution_count": 4,
   "metadata": {},
   "outputs": [],
   "source": [
    "with open('words_alpha.txt') as word_file:\n",
    "    valid_words = set(word_file.read().split())"
   ]
  },
  {
   "cell_type": "code",
   "execution_count": 5,
   "metadata": {},
   "outputs": [
    {
     "data": {
      "text/plain": [
       "370099"
      ]
     },
     "execution_count": 5,
     "metadata": {},
     "output_type": "execute_result"
    }
   ],
   "source": [
    "len(valid_words)"
   ]
  },
  {
   "cell_type": "code",
   "execution_count": 6,
   "metadata": {},
   "outputs": [],
   "source": [
    "n = 466544\n",
    "p = 0.05"
   ]
  },
  {
   "cell_type": "code",
   "execution_count": 7,
   "metadata": {},
   "outputs": [],
   "source": [
    "bloom = BloomFilter(n,p)"
   ]
  },
  {
   "cell_type": "code",
   "execution_count": 8,
   "metadata": {},
   "outputs": [
    {
     "name": "stdout",
     "output_type": "stream",
     "text": [
      "Size of bit array:2909006\n",
      "False positive Probability:0.05\n",
      "Number of hash functions:4\n"
     ]
    }
   ],
   "source": [
    "print(\"Size of bit array:{}\".format(bloom.size)) \n",
    "print(\"False positive Probability:{}\".format(bloom.fp_prob)) \n",
    "print(\"Number of hash functions:{}\".format(bloom.hash_count)) "
   ]
  },
  {
   "cell_type": "code",
   "execution_count": 9,
   "metadata": {},
   "outputs": [],
   "source": [
    "for item in valid_words: \n",
    "    bloom.add(item)"
   ]
  },
  {
   "cell_type": "code",
   "execution_count": 10,
   "metadata": {},
   "outputs": [
    {
     "data": {
      "text/plain": [
       "True"
      ]
     },
     "execution_count": 10,
     "metadata": {},
     "output_type": "execute_result"
    }
   ],
   "source": [
    "bloom.check('abasic')"
   ]
  },
  {
   "cell_type": "code",
   "execution_count": 11,
   "metadata": {},
   "outputs": [
    {
     "data": {
      "text/plain": [
       "False"
      ]
     },
     "execution_count": 11,
     "metadata": {},
     "output_type": "execute_result"
    }
   ],
   "source": [
    "bloom.check('dhfgskfgs')"
   ]
  },
  {
   "cell_type": "code",
   "execution_count": 12,
   "metadata": {},
   "outputs": [
    {
     "data": {
      "text/plain": [
       "True"
      ]
     },
     "execution_count": 12,
     "metadata": {},
     "output_type": "execute_result"
    }
   ],
   "source": [
    "bloom.check('apple')"
   ]
  },
  {
   "cell_type": "code",
   "execution_count": 13,
   "metadata": {},
   "outputs": [],
   "source": [
    "def basic_check(value):\n",
    "    for word in valid_words:\n",
    "        if word == value:\n",
    "            print(True)\n",
    "            break"
   ]
  },
  {
   "cell_type": "code",
   "execution_count": 14,
   "metadata": {},
   "outputs": [
    {
     "name": "stdout",
     "output_type": "stream",
     "text": [
      "True\n",
      "Time for Normal search --- 0.07300186157226562 seconds ---\n",
      "Time for bloom filters lookup --- 7.677078247070312e-05 seconds ---\n",
      "True\n",
      "Time for word lookup --- 0.058219194412231445 seconds ---\n"
     ]
    }
   ],
   "source": [
    "import time\n",
    "start_time = time.time()\n",
    "basic_check('apple')\n",
    "print(\"Time for Normal search --- %s seconds ---\" % (time.time() - start_time))\n",
    "nst = time.time()\n",
    "bloom.check('apple')\n",
    "print(\"Time for bloom filters lookup --- %s seconds ---\" % (time.time() - nst))\n",
    "asd = time.time()\n",
    "for word in valid_words:\n",
    "        if word == 'apple':\n",
    "            print(True)\n",
    "            break\n",
    "print(\"Time for word lookup --- %s seconds ---\" % (time.time() - asd))"
   ]
  },
  {
   "cell_type": "markdown",
   "metadata": {},
   "source": [
    "## Section 2 : Applications"
   ]
  },
  {
   "cell_type": "markdown",
   "metadata": {},
   "source": [
    "## Application 1 : searching in multiple databases / caches"
   ]
  },
  {
   "cell_type": "code",
   "execution_count": 15,
   "metadata": {},
   "outputs": [],
   "source": [
    "lines_per_file = 100000\n",
    "smallfile = None\n",
    "with open('words_alpha.txt') as bigfile:\n",
    "    for lineno, line in enumerate(bigfile):\n",
    "        if lineno % lines_per_file == 0:\n",
    "            if smallfile:\n",
    "                smallfile.close()\n",
    "            small_filename = 'caches/database_{}.txt'.format(lineno + lines_per_file)\n",
    "            smallfile = open(small_filename, \"w\")\n",
    "        smallfile.write(line)\n",
    "    if smallfile:\n",
    "        smallfile.close()"
   ]
  },
  {
   "cell_type": "code",
   "execution_count": 16,
   "metadata": {},
   "outputs": [],
   "source": [
    "# create multiples bloom filters for every database\n",
    "n = 100000\n",
    "p = 0.05"
   ]
  },
  {
   "cell_type": "code",
   "execution_count": 17,
   "metadata": {},
   "outputs": [],
   "source": [
    "import os\n",
    "multiple_bloom = []\n",
    "path = 'caches/'"
   ]
  },
  {
   "cell_type": "code",
   "execution_count": 18,
   "metadata": {},
   "outputs": [],
   "source": [
    "for filename in os.listdir(path):\n",
    "    filename = path+filename\n",
    "    bloom = BloomFilter(n,p)\n",
    "    with open(filename) as word_file:\n",
    "        valid_words = set(word_file.read().split())\n",
    "    for item in valid_words: \n",
    "        bloom.add(item)\n",
    "    multiple_bloom.append(bloom)"
   ]
  },
  {
   "cell_type": "code",
   "execution_count": null,
   "metadata": {},
   "outputs": [],
   "source": [
    "def mul_check(value):\n",
    "    for i in range(1,5):\n",
    "        if multiple_bloom[i-1].check(value):\n",
    "            print(i)"
   ]
  },
  {
   "cell_type": "code",
   "execution_count": null,
   "metadata": {},
   "outputs": [
    {
     "name": "stdout",
     "output_type": "stream",
     "text": [
      "2\n",
      "4\n"
     ]
    }
   ],
   "source": [
    "mul_check('potato')"
   ]
  },
  {
   "cell_type": "code",
   "execution_count": null,
   "metadata": {},
   "outputs": [
    {
     "name": "stdout",
     "output_type": "stream",
     "text": [
      "2\n"
     ]
    }
   ],
   "source": [
    "mul_check('zebra')"
   ]
  },
  {
   "cell_type": "code",
   "execution_count": null,
   "metadata": {},
   "outputs": [],
   "source": [
    "def trad_check(value):\n",
    "    for filename in os.listdir(path):\n",
    "        filename = path+filename\n",
    "        with open(filename) as word_file:\n",
    "            words = set(word_file.read().split())\n",
    "            if value in words:\n",
    "                print(filename)"
   ]
  },
  {
   "cell_type": "code",
   "execution_count": null,
   "metadata": {},
   "outputs": [
    {
     "name": "stdout",
     "output_type": "stream",
     "text": [
      "caches/database_300000.txt\n"
     ]
    }
   ],
   "source": [
    "trad_check('potato')"
   ]
  },
  {
   "cell_type": "code",
   "execution_count": null,
   "metadata": {},
   "outputs": [
    {
     "name": "stdout",
     "output_type": "stream",
     "text": [
      "caches/database_400000.txt\n"
     ]
    }
   ],
   "source": [
    "trad_check('zebra')"
   ]
  },
  {
   "cell_type": "code",
   "execution_count": null,
   "metadata": {},
   "outputs": [],
   "source": [
    "# comparision in speed"
   ]
  },
  {
   "cell_type": "code",
   "execution_count": null,
   "metadata": {},
   "outputs": [
    {
     "name": "stdout",
     "output_type": "stream",
     "text": [
      "caches/database_300000.txt\n",
      "Time for Normal search --- 0.4532809257507324 seconds ---\n",
      "1\n",
      "2\n",
      "Time for bloom filters lookup --- 0.0001342296600341797 seconds ---\n"
     ]
    }
   ],
   "source": [
    "start_time = time.time()\n",
    "trad_check('potato')\n",
    "print(\"Time for Normal search --- %s seconds ---\" % (time.time() - start_time))\n",
    "\n",
    "\n",
    "nst = time.time()\n",
    "mul_check('apple')\n",
    "print(\"Time for bloom filters lookup --- %s seconds ---\" % (time.time() - nst))"
   ]
  },
  {
   "cell_type": "markdown",
   "metadata": {},
   "source": [
    "## Application 2 : new username / phone number validation"
   ]
  },
  {
   "cell_type": "code",
   "execution_count": null,
   "metadata": {},
   "outputs": [],
   "source": [
    "from random import randint\n",
    "\n",
    "def random_with_N_digits(n):\n",
    "    range_start = 10**(n-1)\n",
    "    range_end = (10**n)-1\n",
    "    return randint(range_start, range_end)"
   ]
  },
  {
   "cell_type": "code",
   "execution_count": null,
   "metadata": {},
   "outputs": [],
   "source": [
    "with open('caches/phone_numbers.txt','w') as ff:\n",
    "    for i in range(1000000):\n",
    "        ff.write(str(random_with_N_digits(10))+'\\n')"
   ]
  },
  {
   "cell_type": "code",
   "execution_count": null,
   "metadata": {},
   "outputs": [],
   "source": [
    "n = 1000000\n",
    "p = 0.05\n",
    "num_bloom = BloomFilter(n,p)"
   ]
  },
  {
   "cell_type": "code",
   "execution_count": null,
   "metadata": {},
   "outputs": [],
   "source": [
    "with open('caches/phone_numbers.txt') as number_file:\n",
    "        used_nums = set(number_file.read().split())\n",
    "for item in used_nums: \n",
    "    num_bloom.add(item)"
   ]
  },
  {
   "cell_type": "code",
   "execution_count": null,
   "metadata": {},
   "outputs": [],
   "source": [
    "num_bloom.check('9371134560')"
   ]
  },
  {
   "cell_type": "code",
   "execution_count": null,
   "metadata": {},
   "outputs": [],
   "source": [
    "num_bloom.check('4852465447')"
   ]
  },
  {
   "cell_type": "code",
   "execution_count": null,
   "metadata": {},
   "outputs": [],
   "source": [
    "def basic_num_check(num):\n",
    "    for number in used_nums:\n",
    "        if number == num:\n",
    "            print(True)"
   ]
  },
  {
   "cell_type": "code",
   "execution_count": null,
   "metadata": {},
   "outputs": [],
   "source": [
    "basic_num_check('9371134560')"
   ]
  },
  {
   "cell_type": "code",
   "execution_count": null,
   "metadata": {},
   "outputs": [],
   "source": [
    "start_time = time.time()\n",
    "num_bloom.check('9371134560')\n",
    "blommtt = time.time() - start_time\n",
    "print(\"Time for Normal search --- %s seconds ---\" % (blommtt))\n",
    "\n",
    "\n",
    "nst = time.time()\n",
    "basic_num_check('9371134560')\n",
    "nstt = time.time() - nst\n",
    "print(\"Time for bloom filters lookup --- %s seconds ---\" % (nstt))"
   ]
  },
  {
   "cell_type": "code",
   "execution_count": null,
   "metadata": {},
   "outputs": [],
   "source": [
    "print(nstt - blommtt)"
   ]
  },
  {
   "cell_type": "code",
   "execution_count": null,
   "metadata": {},
   "outputs": [],
   "source": []
  }
 ],
 "metadata": {
  "kernelspec": {
   "display_name": "aps-proj",
   "language": "python",
   "name": "aps-proj"
  },
  "language_info": {
   "codemirror_mode": {
    "name": "ipython",
    "version": 3
   },
   "file_extension": ".py",
   "mimetype": "text/x-python",
   "name": "python",
   "nbconvert_exporter": "python",
   "pygments_lexer": "ipython3",
   "version": "3.7.0"
  }
 },
 "nbformat": 4,
 "nbformat_minor": 2
}
