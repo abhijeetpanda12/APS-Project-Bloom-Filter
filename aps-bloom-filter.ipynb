{
 "cells": [
  {
   "cell_type": "markdown",
   "metadata": {},
   "source": [
    "# Bloom Filters (APS project)"
   ]
  },
  {
   "cell_type": "markdown",
   "metadata": {},
   "source": [
    "### This project contains two applications of Bloom Filters namely \n",
    "*  cache based search\n",
    "* username validation"
   ]
  },
  {
   "cell_type": "markdown",
   "metadata": {},
   "source": [
    "## Section 1 : basic Bloom Filter"
   ]
  },
  {
   "cell_type": "code",
   "execution_count": 3,
   "metadata": {},
   "outputs": [],
   "source": [
    "import math \n",
    "import mmh3 \n",
    "from bitarray import bitarray"
   ]
  },
  {
   "cell_type": "code",
   "execution_count": 6,
   "metadata": {},
   "outputs": [],
   "source": [
    "class BloomFilter(object):\n",
    "    def __init__(self, items_count,fp_prob): \n",
    "        self.fp_prob = fp_prob \n",
    "        self.size = self.get_size(items_count,fp_prob) \n",
    "        self.hash_count = self.get_hash_count(self.size,items_count) \n",
    "        self.bit_array = bitarray(self.size) \n",
    "        self.bit_array.setall(0) \n",
    "\n",
    "    def add(self, item):\n",
    "        digests = [] \n",
    "        for i in range(self.hash_count): \n",
    "            digest = mmh3.hash(item,i) % self.size \n",
    "            digests.append(digest)\n",
    "            self.bit_array[digest] = True\n",
    "\n",
    "    def check(self, item): \n",
    "        for i in range(self.hash_count): \n",
    "            digest = mmh3.hash(item,i) % self.size \n",
    "            if self.bit_array[digest] == False:\n",
    "                return False\n",
    "        return True\n",
    "\n",
    "    @classmethod\n",
    "    def get_size(self,n,p):\n",
    "        m = -(n * math.log(p))/(math.log(2)**2) \n",
    "        return int(m) \n",
    "\n",
    "    @classmethod\n",
    "    def get_hash_count(self, m, n):\n",
    "        k = (m/n) * math.log(2) \n",
    "        return int(k)"
   ]
  },
  {
   "cell_type": "code",
   "execution_count": 7,
   "metadata": {},
   "outputs": [
    {
     "name": "stdout",
     "output_type": "stream",
     "text": [
      "Size of bit array:124\n",
      "False positive Probability:0.05\n",
      "Number of hash functions:4\n",
      "'bonny' is probably present!\n",
      "'facebook' is definitely not present!\n",
      "'bonuses' is probably present!\n",
      "'abundant' is probably present!\n",
      "'gloomy' is definitely not present!\n",
      "'cheater' is definitely not present!\n",
      "'humanity' is definitely not present!\n",
      "'war' is definitely not present!\n",
      "'gems' is probably present!\n",
      "'coherent' is probably present!\n",
      "'racism' is definitely not present!\n",
      "'abundance' is probably present!\n",
      "'twitter' is a false positive!\n",
      "'abounds' is probably present!\n",
      "'hate' is definitely not present!\n",
      "'nuke' is definitely not present!\n",
      "'blossom' is probably present!\n",
      "'geeksforgeeks' is definitely not present!\n",
      "'genial' is probably present!\n",
      "'hurt' is definitely not present!\n",
      "'bluff' is definitely not present!\n",
      "'comfort' is probably present!\n"
     ]
    }
   ],
   "source": [
    "# from bloomfilter import BloomFilter \n",
    "from random import shuffle \n",
    "\n",
    "n = 20 #no of items to add \n",
    "p = 0.05 #false positive probability \n",
    "\n",
    "bloomf = BloomFilter(n,p) \n",
    "print(\"Size of bit array:{}\".format(bloomf.size)) \n",
    "print(\"False positive Probability:{}\".format(bloomf.fp_prob)) \n",
    "print(\"Number of hash functions:{}\".format(bloomf.hash_count)) \n",
    "\n",
    "# words to be added \n",
    "word_present = ['abound','abounds','abundance','abundant','accessable', \n",
    "                'bloom','blossom','bolster','bonny','bonus','bonuses', \n",
    "                'coherent','cohesive','colorful','comely','comfort', \n",
    "                'gems','generosity','generous','generously','genial'] \n",
    "\n",
    "# word not added \n",
    "word_absent = ['bluff','cheater','hate','war','humanity', \n",
    "            'racism','hurt','nuke','gloomy','facebook', \n",
    "            'geeksforgeeks','twitter'] \n",
    "\n",
    "for item in word_present: \n",
    "    bloomf.add(item) \n",
    "\n",
    "shuffle(word_present) \n",
    "shuffle(word_absent) \n",
    "\n",
    "test_words = word_present[:10] + word_absent \n",
    "shuffle(test_words) \n",
    "for word in test_words: \n",
    "    if bloomf.check(word): \n",
    "        if word in word_absent: \n",
    "            print(\"'{}' is a false positive!\".format(word)) \n",
    "        else: \n",
    "            print(\"'{}' is probably present!\".format(word)) \n",
    "    else: \n",
    "        print(\"'{}' is definitely not present!\".format(word)) \n"
   ]
  },
  {
   "cell_type": "code",
   "execution_count": null,
   "metadata": {},
   "outputs": [],
   "source": []
  }
 ],
 "metadata": {
  "kernelspec": {
   "display_name": "aps-proj",
   "language": "python",
   "name": "aps-proj"
  },
  "language_info": {
   "codemirror_mode": {
    "name": "ipython",
    "version": 3
   },
   "file_extension": ".py",
   "mimetype": "text/x-python",
   "name": "python",
   "nbconvert_exporter": "python",
   "pygments_lexer": "ipython3",
   "version": "3.7.0"
  }
 },
 "nbformat": 4,
 "nbformat_minor": 2
}
