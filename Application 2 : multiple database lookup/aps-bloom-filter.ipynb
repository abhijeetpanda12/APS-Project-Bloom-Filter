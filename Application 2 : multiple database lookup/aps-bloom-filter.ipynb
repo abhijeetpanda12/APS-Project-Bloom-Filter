{
 "cells": [
  {
   "cell_type": "markdown",
   "metadata": {},
   "source": [
    "# Bloom Filters Application 2"
   ]
  },
  {
   "cell_type": "markdown",
   "metadata": {},
   "source": [
    "### This project contains the applications of Bloom Filters in \n",
    "* searching in multiple databases / caches\n"
   ]
  },
  {
   "cell_type": "markdown",
   "metadata": {},
   "source": [
    "## Bloom Filter definition"
   ]
  },
  {
   "cell_type": "code",
   "execution_count": 1,
   "metadata": {},
   "outputs": [],
   "source": [
    "import math \n",
    "import mmh3 \n",
    "from bitarray import bitarray\n",
    "import time\n",
    "import os"
   ]
  },
  {
   "cell_type": "code",
   "execution_count": 2,
   "metadata": {},
   "outputs": [],
   "source": [
    "class BloomFilter(object):\n",
    "    def __init__(self, items_count,fp_prob): \n",
    "        self.fp_prob = fp_prob \n",
    "        self.size = self.get_size(items_count,fp_prob) \n",
    "        self.hash_count = self.get_hash_count(self.size,items_count) \n",
    "        self.bit_array = bitarray(self.size) \n",
    "        self.bit_array.setall(0) \n",
    "\n",
    "    def add(self, item):\n",
    "        digests = [] \n",
    "        for i in range(self.hash_count): \n",
    "            digest = mmh3.hash(item,i) % self.size \n",
    "            digests.append(digest)\n",
    "            self.bit_array[digest] = True\n",
    "\n",
    "    def check(self, item): \n",
    "        for i in range(self.hash_count): \n",
    "            digest = mmh3.hash(item,i) % self.size \n",
    "            if self.bit_array[digest] == False:\n",
    "                return False\n",
    "        return True\n",
    "\n",
    "    @classmethod\n",
    "    def get_size(self,n,p):\n",
    "        m = -(n * math.log(p))/(math.log(2)**2) \n",
    "        return int(m) \n",
    "\n",
    "    @classmethod\n",
    "    def get_hash_count(self, m, n):\n",
    "        k = (m/n) * math.log(2) \n",
    "        return int(k)"
   ]
  },
  {
   "cell_type": "markdown",
   "metadata": {},
   "source": [
    "## Application : searching in multiple databases / caches"
   ]
  },
  {
   "cell_type": "code",
   "execution_count": 3,
   "metadata": {},
   "outputs": [],
   "source": [
    "multiple_bloom = []\n",
    "path = 'data/'"
   ]
  },
  {
   "cell_type": "code",
   "execution_count": 4,
   "metadata": {},
   "outputs": [],
   "source": [
    "# create multiples bloom filters for every database\n",
    "n = 100000\n",
    "p = 0.05"
   ]
  },
  {
   "cell_type": "code",
   "execution_count": 5,
   "metadata": {},
   "outputs": [],
   "source": [
    "def bloom_create():\n",
    "    for filename in os.listdir(path):\n",
    "        filename = path+filename\n",
    "        bloom = BloomFilter(n,p)\n",
    "        with open(filename) as word_file:\n",
    "            valid_words = set(word_file.read().split())\n",
    "        for item in valid_words: \n",
    "            bloom.add(item)\n",
    "        multiple_bloom.append(bloom)"
   ]
  },
  {
   "cell_type": "code",
   "execution_count": 6,
   "metadata": {},
   "outputs": [],
   "source": [
    "def bloom_check(value):\n",
    "    for i in range(1,5):\n",
    "        if multiple_bloom[i-1].check(value):\n",
    "            print(i)"
   ]
  },
  {
   "cell_type": "code",
   "execution_count": 7,
   "metadata": {},
   "outputs": [],
   "source": [
    "def trad_check(value):\n",
    "    for filename in os.listdir(path):\n",
    "        filename = path+filename\n",
    "        with open(filename) as word_file:\n",
    "            words = set(word_file.read().split())\n",
    "            if value in words:\n",
    "                print(filename)"
   ]
  },
  {
   "cell_type": "code",
   "execution_count": 8,
   "metadata": {},
   "outputs": [],
   "source": [
    "bloom_create()"
   ]
  },
  {
   "cell_type": "code",
   "execution_count": 9,
   "metadata": {},
   "outputs": [
    {
     "name": "stdout",
     "output_type": "stream",
     "text": [
      "data/database_300000.txt\n",
      "Time for Normal search --- 0.11062812805175781 seconds ---\n",
      "3\n",
      "Time for bloom filters lookup --- 0.00014925003051757812 seconds ---\n"
     ]
    }
   ],
   "source": [
    "start_time = time.time()\n",
    "trad_check('potato')\n",
    "tms = time.time() - start_time\n",
    "print(\"Time for Normal search --- %s seconds ---\" % (tms))\n",
    "\n",
    "\n",
    "nst = time.time()\n",
    "bloom_check('potato')\n",
    "bftm = time.time() - nst\n",
    "print(\"Time for bloom filters lookup --- %s seconds ---\" % (bftm))"
   ]
  },
  {
   "cell_type": "code",
   "execution_count": null,
   "metadata": {},
   "outputs": [],
   "source": []
  }
 ],
 "metadata": {
  "kernelspec": {
   "display_name": "aps-proj",
   "language": "python",
   "name": "aps-proj"
  },
  "language_info": {
   "codemirror_mode": {
    "name": "ipython",
    "version": 3
   },
   "file_extension": ".py",
   "mimetype": "text/x-python",
   "name": "python",
   "nbconvert_exporter": "python",
   "pygments_lexer": "ipython3",
   "version": "3.7.0"
  }
 },
 "nbformat": 4,
 "nbformat_minor": 2
}
